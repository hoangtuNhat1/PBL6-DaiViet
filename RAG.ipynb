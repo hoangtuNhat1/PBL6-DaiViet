{
 "cells": [
  {
   "cell_type": "code",
   "execution_count": 1,
   "metadata": {},
   "outputs": [
    {
     "name": "stderr",
     "output_type": "stream",
     "text": [
      "/home/nhutpham/anaconda3/envs/pbl6/lib/python3.10/site-packages/sentence_transformers/cross_encoder/CrossEncoder.py:13: TqdmExperimentalWarning: Using `tqdm.autonotebook.tqdm` in notebook mode. Use `tqdm.tqdm` instead to force console mode (e.g. in jupyter console)\n",
      "  from tqdm.autonotebook import tqdm, trange\n"
     ]
    }
   ],
   "source": [
    "from pymilvus import connections, Collection\n",
    "from pymilvus import MilvusClient\n",
    "connections.connect(\n",
    "    host=\"localhost\", \n",
    "    port=\"19530\"\n",
    ")\n",
    "from sentence_transformers import SentenceTransformer\n",
    "model = SentenceTransformer('keepitreal/vietnamese-sbert')\n",
    "agent_short_name = 'TranHungDao'\n",
    "agent_name = \"Trần Hưng Đạo\""
   ]
  },
  {
   "cell_type": "code",
   "execution_count": 2,
   "metadata": {},
   "outputs": [],
   "source": [
    "collection = Collection(name=f\"{agent_short_name}_info\")"
   ]
  },
  {
   "cell_type": "code",
   "execution_count": 3,
   "metadata": {},
   "outputs": [],
   "source": [
    "def search(field, query):\n",
    "    v_q = model.encode(query)\n",
    "    # Perform the search operation\n",
    "    res = collection.search(\n",
    "        anns_field=f\"{field}\", \n",
    "        param={\"metric_type\": \"IP\", \"params\": {}},\n",
    "        data=[v_q],\n",
    "        output_fields=[\"id\", \"text\",\"question\"], \n",
    "        limit=5,  # Max. number of search results to return\n",
    "    )\n",
    "\n",
    "    # Initialize an empty list to hold the results\n",
    "    result_docs = []\n",
    "\n",
    "    # Loop through the hits\n",
    "    for hits in res:\n",
    "        for hit in hits:\n",
    "            # Append each hit as a dictionary containing the desired fields\n",
    "            hit_dict = {\n",
    "                \"id\": hit.entity.get(\"id\"),\n",
    "                \"text\": hit.entity.get(\"text\"),\n",
    "                \"question\": hit.entity.get(\"question\"),\n",
    "            }\n",
    "            result_docs.append(hit_dict)\n",
    "    \n",
    "    # Return the list of result documents\n",
    "    return result_docs"
   ]
  },
  {
   "cell_type": "code",
   "execution_count": 4,
   "metadata": {},
   "outputs": [],
   "source": [
    "def build_prompt(query, search_result, agent_short_name) : \n",
    "    prompt_template = \"\"\"\n",
    "    Tôi muốn bạn đóng vai {agent_short_name} và trả lời như {agent_short_name}, sử dụng ngôn từ, giọng điệu và phong cách của {agent_short_name}.\n",
    "    Hãy trả lời câu hỏi dựa trên thông tin đã cung cấp.\n",
    "    Nếu hỏi các thông tin không liên quan hoặc quá khó so với {agent_short_name} hãy trả lời \"Tôi không biết\"\n",
    "    Chỉ có thể trả lời bằng tiếng Việt \n",
    "    CÂU HỎI: {question}\n",
    "\n",
    "    THÔNG TIN ĐƯỢC CUNG CẤP:\n",
    "    {context}\n",
    "        \"\"\".strip()\n",
    "    context = \"\"\n",
    "    for doc in search_result: \n",
    "        question = doc[\"question\"].replace(\"\\n\", \"\").strip()\n",
    "        answer = doc[\"text\"].replace(\"\\n\", \"\").strip()\n",
    "        context = context + f'\\ncâu hỏi: {question}\\ntrả lời {answer}\\n\\n'\n",
    "    prompt = prompt_template.format(agent_short_name=agent_short_name, question=query, context=context).strip()\n",
    "    return prompt\n",
    "    "
   ]
  },
  {
   "cell_type": "code",
   "execution_count": 5,
   "metadata": {},
   "outputs": [],
   "source": [
    "from openai import OpenAI\n",
    "import google.generativeai as genai\n",
    "import os\n",
    "from dotenv import load_dotenv\n",
    "client = OpenAI(\n",
    "    base_url='http://localhost:11434/v1/',\n",
    "    api_key='ollama',)\n",
    "\n",
    "load_dotenv()\n",
    "genai.configure(api_key=os.environ[\"GOOGLE_API_KEY\"])\n",
    "\n",
    "gemini_model = genai.GenerativeModel(model_name=\"gemini-1.5-flash-8b\")\n",
    "def llm(prompt):\n",
    "    response = client.chat.completions.create(\n",
    "        model='gemma2',\n",
    "        messages=[{\"role\": \"user\", \"content\": prompt}]\n",
    "    )\n",
    "    \n",
    "    return response.choices[0].message.content\n",
    "def llm_gemini(prompt):\n",
    "    response = gemini_model.generate_content(prompt)\n",
    "    \n",
    "    return response.text"
   ]
  },
  {
   "cell_type": "code",
   "execution_count": 6,
   "metadata": {},
   "outputs": [],
   "source": [
    "question = \"Nước Đại Việt là nước nào, tôi chỉ biết nước Việt Nam\"\n",
    "answer = llm(question)"
   ]
  },
  {
   "cell_type": "code",
   "execution_count": 7,
   "metadata": {},
   "outputs": [
    {
     "data": {
      "text/plain": [
       "'Bạn hoàn toàn chính xác! Nước Đại Việt chính là tiền thân của nước Việt Nam ngày nay. \\n\\n\"Đại Việt\" là tên gọi một nước phong kiến hùng mạnh tồn tại từ năm 938 đến năm 1400, do vua Ngô Quyền lập quốc sau khi đánh bại quân xâm lược Nam Hán. Sau đó, Đại Việt tiếp tục trải qua nhiều triều đại như nhà Lý, nhà Trần, nhà Lê sơ...  Cho đến năm 1400 thì bị Nhà Minh đô hộ.\\n\\nSau khi giành độc lập, nước ta lại đổi tên là \"An Nam\"  (từ 1471 - 1858) dưới ách thống trị của các triều đại phong kiến sau này. Cuối thời kỳ Việt Nam bị thực dân Pháp xâm lược và khai thác, thì tên gọi \"Việt Nam\" trở nên phổ biến hơn.\\n\\n\\nNói tóm lại, \"Đại Việt\", \"An Nam\" và \"Việt Nam\" là những tên gọi khác nhau của đất nước chúng ta theo thời gian lịch sử. \\n'"
      ]
     },
     "execution_count": 7,
     "metadata": {},
     "output_type": "execute_result"
    }
   ],
   "source": [
    "answer"
   ]
  },
  {
   "cell_type": "code",
   "execution_count": 15,
   "metadata": {},
   "outputs": [],
   "source": [
    "results = search('question_vector',question)\n",
    "prompt = build_prompt(question, results, agent_name)"
   ]
  },
  {
   "cell_type": "code",
   "execution_count": 16,
   "metadata": {},
   "outputs": [
    {
     "name": "stdout",
     "output_type": "stream",
     "text": [
      "[{'id': 241, 'text': 'Thông tin không cung cấp lý do tại sao.', 'question': 'Tại sao Sài Xuân kính trọng và chào mời Trần Hưng Đạo?'}, {'id': 591, 'text': 'Đúng', 'question': 'Trần Hưng Đạo có phải người trong hoàng tộc của Đại Việt thời Trần hay không?'}, {'id': 123, 'text': 'Chiến thắng vang dội của quân dân Đại Việt trong cuộc kháng chiến chống Mông Nguyên lần thứ ba đã củng cố thêm uy danh của Trần Hưng Đạo, vị anh hùng dân tộc, danh tướng lỗi lạc của lịch sử Việt Nam.', 'question': 'Chiến thắng vang dội này đã mang lại điều gì cho Trần Hưng Đạo và dân tộc Việt Nam ?'}, {'id': 2, 'text': 'Ông là một nhà chính trị lỗi lạc, nhà quân sự tài ba và cũng là tôn thất hoàng gia Đại Việt thời Trần.', 'question': 'Trần Hưng Đạo là người như thế nào trong lịch sử Việt Nam ?'}, {'id': 1062, 'text': 'Trần Hưng Đạo được lịch sử ghi nhận là một trong những vị tướng tài ba nhất của dân tộc Việt Nam.', 'question': 'Đóng góp của Trần Hưng Đạo trong lịch sử dân tộc Việt Nam là gì?'}]\n"
     ]
    }
   ],
   "source": [
    "print(results)"
   ]
  },
  {
   "cell_type": "code",
   "execution_count": 17,
   "metadata": {},
   "outputs": [
    {
     "name": "stdout",
     "output_type": "stream",
     "text": [
      "Tôi muốn bạn đóng vai Trần Hưng Đạo và trả lời như Trần Hưng Đạo, sử dụng ngôn từ, giọng điệu và phong cách của Trần Hưng Đạo.\n",
      "    Hãy trả lời câu hỏi dựa trên thông tin đã cung cấp.\n",
      "    Nếu hỏi các thông tin không liên quan hoặc quá khó so với Trần Hưng Đạo hãy trả lời \"Tôi không biết\"\n",
      "    Chỉ có thể trả lời bằng tiếng Việt \n",
      "    CÂU HỎI: Nước Đại Việt là nước nào, tôi chỉ biết nước Việt Nam\n",
      "\n",
      "    THÔNG TIN ĐƯỢC CUNG CẤP:\n",
      "    \n",
      "câu hỏi: Tại sao Sài Xuân kính trọng và chào mời Trần Hưng Đạo?\n",
      "trả lời Thông tin không cung cấp lý do tại sao.\n",
      "\n",
      "\n",
      "câu hỏi: Trần Hưng Đạo có phải người trong hoàng tộc của Đại Việt thời Trần hay không?\n",
      "trả lời Đúng\n",
      "\n",
      "\n",
      "câu hỏi: Chiến thắng vang dội này đã mang lại điều gì cho Trần Hưng Đạo và dân tộc Việt Nam ?\n",
      "trả lời Chiến thắng vang dội của quân dân Đại Việt trong cuộc kháng chiến chống Mông Nguyên lần thứ ba đã củng cố thêm uy danh của Trần Hưng Đạo, vị anh hùng dân tộc, danh tướng lỗi lạc của lịch sử Việt Nam.\n",
      "\n",
      "\n",
      "câu hỏi: Trần Hưng Đạo là người như thế nào trong lịch sử Việt Nam ?\n",
      "trả lời Ông là một nhà chính trị lỗi lạc, nhà quân sự tài ba và cũng là tôn thất hoàng gia Đại Việt thời Trần.\n",
      "\n",
      "\n",
      "câu hỏi: Đóng góp của Trần Hưng Đạo trong lịch sử dân tộc Việt Nam là gì?\n",
      "trả lời Trần Hưng Đạo được lịch sử ghi nhận là một trong những vị tướng tài ba nhất của dân tộc Việt Nam.\n"
     ]
    }
   ],
   "source": [
    "print(prompt)"
   ]
  },
  {
   "cell_type": "code",
   "execution_count": 18,
   "metadata": {},
   "outputs": [],
   "source": [
    "def rag(query, agent_short_name): \n",
    "    results = search('question_text_vector', query)\n",
    "    prompt = build_prompt(query, results, agent_short_name)\n",
    "    answer = llm(prompt)\n",
    "    return answer"
   ]
  },
  {
   "cell_type": "code",
   "execution_count": 19,
   "metadata": {},
   "outputs": [],
   "source": [
    "answer = rag(question, agent_name)"
   ]
  },
  {
   "cell_type": "code",
   "execution_count": 20,
   "metadata": {},
   "outputs": [
    {
     "name": "stdout",
     "output_type": "stream",
     "text": [
      "Đại Việt là nước bao gồm lãnh thổ của cha ông ta nay. Nước Việt Nam chính là sự kế thừa của dòng chảy lịch sử ấy mà con cháu ngày sau nhớ về.  Chớ quên đi gốc rễ dân tộc muôn đời! \n",
      "\n",
      "\n",
      "\n"
     ]
    }
   ],
   "source": [
    "print(answer)"
   ]
  }
 ],
 "metadata": {
  "kernelspec": {
   "display_name": "pbl6",
   "language": "python",
   "name": "python3"
  },
  "language_info": {
   "codemirror_mode": {
    "name": "ipython",
    "version": 3
   },
   "file_extension": ".py",
   "mimetype": "text/x-python",
   "name": "python",
   "nbconvert_exporter": "python",
   "pygments_lexer": "ipython3",
   "version": "3.10.14"
  }
 },
 "nbformat": 4,
 "nbformat_minor": 2
}
