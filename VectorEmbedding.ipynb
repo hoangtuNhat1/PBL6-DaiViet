{
 "cells": [
  {
   "cell_type": "code",
   "execution_count": 1,
   "metadata": {},
   "outputs": [
    {
     "name": "stderr",
     "output_type": "stream",
     "text": [
      "/home/nhutpham/anaconda3/envs/pbl6/lib/python3.10/site-packages/sentence_transformers/cross_encoder/CrossEncoder.py:13: TqdmExperimentalWarning: Using `tqdm.autonotebook.tqdm` in notebook mode. Use `tqdm.tqdm` instead to force console mode (e.g. in jupyter console)\n",
      "  from tqdm.autonotebook import tqdm, trange\n"
     ]
    }
   ],
   "source": [
    "from pymilvus import connections, Collection, FieldSchema, CollectionSchema, DataType\n",
    "from pymilvus import utility\n",
    "connections.connect(\n",
    "    host=\"localhost\", \n",
    "    port=\"19530\"\n",
    ")\n",
    "from sentence_transformers import SentenceTransformer\n",
    "model = SentenceTransformer('keepitreal/vietnamese-sbert')\n",
    "agent_short_name = 'TranHungDao'"
   ]
  },
  {
   "cell_type": "code",
   "execution_count": 2,
   "metadata": {},
   "outputs": [],
   "source": [
    "import json\n",
    "\n",
    "# Đọc file JSON và nạp dữ liệu vào biến\n",
    "with open(\"./data/qa/qa_TranHungDao.json\", \"r\", encoding=\"utf-8\") as f:\n",
    "    documents = json.load(f)"
   ]
  },
  {
   "cell_type": "code",
   "execution_count": 15,
   "metadata": {},
   "outputs": [],
   "source": [
    "max_question_length = max(len(pair['question']) for pair in documents if pair['question'] is not None)\n",
    "max_answer_length = max(len(pair['answer']) for pair in documents  if pair['answer'] is not None)"
   ]
  },
  {
   "cell_type": "code",
   "execution_count": 16,
   "metadata": {},
   "outputs": [
    {
     "name": "stdout",
     "output_type": "stream",
     "text": [
      "10247 2922\n"
     ]
    }
   ],
   "source": [
    "print(max_question_length, max_answer_length)"
   ]
  },
  {
   "cell_type": "code",
   "execution_count": 3,
   "metadata": {},
   "outputs": [],
   "source": [
    "agent_short_name = 'TranHungDao'"
   ]
  },
  {
   "cell_type": "code",
   "execution_count": 5,
   "metadata": {},
   "outputs": [
    {
     "ename": "AttributeError",
     "evalue": "'NoneType' object has no attribute 'split'",
     "output_type": "error",
     "traceback": [
      "\u001b[0;31m---------------------------------------------------------------------------\u001b[0m",
      "\u001b[0;31mAttributeError\u001b[0m                            Traceback (most recent call last)",
      "Cell \u001b[0;32mIn[5], line 9\u001b[0m\n\u001b[1;32m      6\u001b[0m     \u001b[38;5;28;01mreturn\u001b[39;00m total_words\n\u001b[1;32m      8\u001b[0m \u001b[38;5;66;03m# Count the total number of words in the documents\u001b[39;00m\n\u001b[0;32m----> 9\u001b[0m total_word_count \u001b[38;5;241m=\u001b[39m \u001b[43mcount_words_in_documents\u001b[49m\u001b[43m(\u001b[49m\u001b[43mdocuments\u001b[49m\u001b[43m)\u001b[49m\n\u001b[1;32m     10\u001b[0m total_word_count\n",
      "Cell \u001b[0;32mIn[5], line 5\u001b[0m, in \u001b[0;36mcount_words_in_documents\u001b[0;34m(docs)\u001b[0m\n\u001b[1;32m      3\u001b[0m \u001b[38;5;28;01mfor\u001b[39;00m doc \u001b[38;5;129;01min\u001b[39;00m docs:\n\u001b[1;32m      4\u001b[0m     \u001b[38;5;28;01mfor\u001b[39;00m key, text \u001b[38;5;129;01min\u001b[39;00m doc\u001b[38;5;241m.\u001b[39mitems():\n\u001b[0;32m----> 5\u001b[0m         total_words \u001b[38;5;241m+\u001b[39m\u001b[38;5;241m=\u001b[39m \u001b[38;5;28mlen\u001b[39m(\u001b[43mtext\u001b[49m\u001b[38;5;241;43m.\u001b[39;49m\u001b[43msplit\u001b[49m())\n\u001b[1;32m      6\u001b[0m \u001b[38;5;28;01mreturn\u001b[39;00m total_words\n",
      "\u001b[0;31mAttributeError\u001b[0m: 'NoneType' object has no attribute 'split'"
     ]
    }
   ],
   "source": [
    "def count_words_in_documents(docs):\n",
    "    total_words = 0\n",
    "    for doc in docs:\n",
    "        for key, text in doc.items():\n",
    "            total_words += len(text.split())\n",
    "    return total_words\n",
    "\n",
    "# Count the total number of words in the documents\n",
    "total_word_count = count_words_in_documents(documents)\n",
    "total_word_count"
   ]
  },
  {
   "cell_type": "code",
   "execution_count": 6,
   "metadata": {},
   "outputs": [
    {
     "data": {
      "text/plain": [
       "{'subject': 'Thời trẻ: Tuổi thơ dữ dội',\n",
       " 'question': 'Mục đích cha nuôi Trần Quốc Tuấn là gì ? Cần đáp án ngắn gọn, xúc tích, và chính xác.',\n",
       " 'answer': 'Trở thành người có khả năng'}"
      ]
     },
     "execution_count": 6,
     "metadata": {},
     "output_type": "execute_result"
    }
   ],
   "source": [
    "documents[-1]"
   ]
  },
  {
   "cell_type": "code",
   "execution_count": 17,
   "metadata": {},
   "outputs": [],
   "source": [
    "utility.drop_collection(f\"{agent_short_name}_info\")"
   ]
  },
  {
   "cell_type": "code",
   "execution_count": 18,
   "metadata": {},
   "outputs": [
    {
     "data": {
      "text/plain": [
       "(insert count: 1507, delete count: 0, upsert count: 0, timestamp: 453567028105838594, success count: 1507, err count: 0"
      ]
     },
     "execution_count": 18,
     "metadata": {},
     "output_type": "execute_result"
    }
   ],
   "source": [
    "\n",
    "fields = [\n",
    "    FieldSchema(name=\"id\", dtype=DataType.INT64, is_primary=True),\n",
    "    FieldSchema(name=\"subject\", dtype=DataType.VARCHAR, max_length=200),\n",
    "    FieldSchema(name=\"text\", dtype=DataType.VARCHAR, max_length=3000),\n",
    "    FieldSchema(name=\"question\", dtype=DataType.VARCHAR, max_length=11000),\n",
    "    FieldSchema(name=\"question_vector\", dtype=DataType.FLOAT_VECTOR, dim=768), \n",
    "    FieldSchema(name=\"text_vector\", dtype=DataType.FLOAT_VECTOR, dim=768), \n",
    "    FieldSchema(name=\"question_text_vector\", dtype=DataType.FLOAT_VECTOR, dim=768)]\n",
    "\n",
    "schema = CollectionSchema(fields=fields,enable_dynamic_field=True)\n",
    "\n",
    "collection = Collection(name=f\"{agent_short_name}_info\", schema=schema)\n",
    "\n",
    "index_params = {\n",
    "    \"metric_type\": \"IP\",\n",
    "    \"params\": {},\n",
    "}\n",
    "\n",
    "collection.create_index(\"question_vector\", index_params)\n",
    "collection.create_index(\"text_vector\", index_params)\n",
    "collection.create_index(\"question_text_vector\", index_params)\n",
    "\n",
    "\n",
    "entities = []\n",
    "for i, doc in enumerate(documents): \n",
    "    try: \n",
    "        text = doc['answer'] if doc['answer'] else \"\"\n",
    "        question = doc['question'] if doc['question'] else \"\"\n",
    "        subject =  doc['subject'] \n",
    "        qt = question + ' ' + text\n",
    "        doc['id'] = i+1\n",
    "        doc['question_vector'] = model.encode(question)\n",
    "        doc['text_vector'] = model.encode(text)\n",
    "        doc['question_text_vector'] = model.encode(qt)\n",
    "        entity = {\n",
    "            \"id\": doc['id'],\n",
    "            \"subject\": subject ,\n",
    "            \"text\": text,\n",
    "            \"question\": question,\n",
    "            \"question_vector\": doc['question_vector'],\n",
    "            \"text_vector\": doc['text_vector'], \n",
    "            \"question_text_vector\": doc['question_text_vector'], \n",
    "        }\n",
    "        entities.append(entity)\n",
    "    except KeyError as e:\n",
    "        print(f\"Missing key {e} in document {doc['id']}\")\n",
    "        continue\n",
    "    \n",
    "collection.insert(entities)"
   ]
  },
  {
   "cell_type": "code",
   "execution_count": 19,
   "metadata": {},
   "outputs": [],
   "source": [
    "collection.release()\n",
    "collection.load()"
   ]
  },
  {
   "cell_type": "code",
   "execution_count": 20,
   "metadata": {},
   "outputs": [],
   "source": [
    "collection = Collection(name=f\"{agent_short_name}_info\")"
   ]
  }
 ],
 "metadata": {
  "kernelspec": {
   "display_name": "pbl6",
   "language": "python",
   "name": "python3"
  },
  "language_info": {
   "codemirror_mode": {
    "name": "ipython",
    "version": 3
   },
   "file_extension": ".py",
   "mimetype": "text/x-python",
   "name": "python",
   "nbconvert_exporter": "python",
   "pygments_lexer": "ipython3",
   "version": "3.10.14"
  }
 },
 "nbformat": 4,
 "nbformat_minor": 2
}
